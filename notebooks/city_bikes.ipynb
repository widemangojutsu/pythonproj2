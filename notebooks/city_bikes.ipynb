{
 "cells": [
  {
   "cell_type": "markdown",
   "metadata": {},
   "source": [
    "# CityBikes"
   ]
  },
  {
   "cell_type": "markdown",
   "metadata": {},
   "source": [
    "Send a request to CityBikes for the city of your choice. "
   ]
  },
  {
   "cell_type": "code",
   "execution_count": 1,
   "metadata": {},
   "outputs": [
    {
     "name": "stdout",
     "output_type": "stream",
     "text": [
      "0      {'city': 'Moscow', 'country': 'RU', 'latitude'...\n",
      "1      {'city': 'Bærum', 'country': 'NO', 'latitude':...\n",
      "2      {'city': 'Siena', 'country': 'IT', 'latitude':...\n",
      "3      {'city': 'Maroussi', 'country': 'GR', 'latitud...\n",
      "4      {'city': 'Nafplio', 'country': 'GR', 'latitude...\n",
      "                             ...                        \n",
      "672    {'city': 'Argelès-sur-Mer', 'country': 'FR', '...\n",
      "673    {'city': 'Mendoza', 'country': 'AR', 'latitude...\n",
      "674    {'city': 'Passo Fundo', 'country': 'BR', 'lati...\n",
      "675    {'city': 'Cascavel', 'country': 'BR', 'latitud...\n",
      "676    {'city': 'La Rochelle', 'country': 'FR', 'lati...\n",
      "Name: location, Length: 677, dtype: object\n"
     ]
    },
    {
     "data": {
      "text/plain": [
       "[210]"
      ]
     },
     "execution_count": 1,
     "metadata": {},
     "output_type": "execute_result"
    }
   ],
   "source": [
    "import requests\n",
    "import json\n",
    "import pandas as pd\n",
    "\n",
    "url = \"http://api.citybik.es/v2/networks\"\n",
    "bikejs = requests.get(url)\n",
    "\n",
    "\n",
    "\n",
    "url='http://api.citybik.es/v2/networks'\n",
    "data = requests.get(url).json()\n",
    "\n",
    "df = pd.DataFrame(data['networks'])\n",
    "\n",
    "name = df['name']\n",
    "\n",
    "location = df['location']\n",
    "\n",
    "print(location)\n",
    "# myloc = location[0]\n",
    "\n",
    "\n",
    "# myloc.get('city', 'Moscow'\n",
    "# )\n",
    "myloc = 'Vancouver'\n",
    "\n",
    "def citychoice(myloc):\n",
    "    citylist = []\n",
    "\n",
    "    for i, each in enumerate(location):\n",
    "        if each['city'] == myloc:\n",
    "            citylist.append(i)\n",
    "\n",
    "    return citylist\n",
    "\n",
    "citychoice(myloc)\n",
    "\n"
   ]
  },
  {
   "cell_type": "code",
   "execution_count": 3,
   "metadata": {},
   "outputs": [
    {
     "data": {
      "text/plain": [
       "'mobibikes'"
      ]
     },
     "execution_count": 3,
     "metadata": {},
     "output_type": "execute_result"
    }
   ],
   "source": [
    "df.iloc[210]['id']"
   ]
  },
  {
   "cell_type": "markdown",
   "metadata": {},
   "source": [
    "Parse through the response to get the details you want for the bike stations in that city (latitude, longitude, number of bikes). "
   ]
  },
  {
   "cell_type": "code",
   "execution_count": 4,
   "metadata": {},
   "outputs": [],
   "source": [
    "vanid = df.iloc[210]['id']\n",
    "\n",
    "mobiurl = f'http://api.citybik.es/v2/networks/{vanid}'\n",
    "\n",
    "vanmobi = requests.get(mobiurl).json()\n",
    "mobidf = pd.DataFrame(vanmobi['network']['stations'])"
   ]
  },
  {
   "cell_type": "markdown",
   "metadata": {},
   "source": [
    "Put your parsed results into a DataFrame."
   ]
  },
  {
   "cell_type": "code",
   "execution_count": 13,
   "metadata": {},
   "outputs": [
    {
     "data": {
      "text/html": [
       "<div>\n",
       "<style scoped>\n",
       "    .dataframe tbody tr th:only-of-type {\n",
       "        vertical-align: middle;\n",
       "    }\n",
       "\n",
       "    .dataframe tbody tr th {\n",
       "        vertical-align: top;\n",
       "    }\n",
       "\n",
       "    .dataframe thead th {\n",
       "        text-align: right;\n",
       "    }\n",
       "</style>\n",
       "<table border=\"1\" class=\"dataframe\">\n",
       "  <thead>\n",
       "    <tr style=\"text-align: right;\">\n",
       "      <th></th>\n",
       "      <th>empty_slots</th>\n",
       "      <th>extra</th>\n",
       "      <th>free_bikes</th>\n",
       "      <th>id</th>\n",
       "      <th>latitude</th>\n",
       "      <th>longitude</th>\n",
       "      <th>name</th>\n",
       "      <th>timestamp</th>\n",
       "    </tr>\n",
       "  </thead>\n",
       "  <tbody>\n",
       "    <tr>\n",
       "      <th>0</th>\n",
       "      <td>15</td>\n",
       "      <td>{'ebikes': 0, 'has_ebikes': True, 'last_update...</td>\n",
       "      <td>20</td>\n",
       "      <td>7a19c49f486d7c0c02b3685d7b240448</td>\n",
       "      <td>49.262487</td>\n",
       "      <td>-123.114397</td>\n",
       "      <td>10th &amp; Cambie</td>\n",
       "      <td>2023-11-22T10:39:15.138000Z</td>\n",
       "    </tr>\n",
       "    <tr>\n",
       "      <th>1</th>\n",
       "      <td>6</td>\n",
       "      <td>{'ebikes': 1, 'has_ebikes': True, 'last_update...</td>\n",
       "      <td>9</td>\n",
       "      <td>32603a87cfca71d0f7dfa3513bad69d5</td>\n",
       "      <td>49.274566</td>\n",
       "      <td>-123.121817</td>\n",
       "      <td>Yaletown-Roundhouse Station</td>\n",
       "      <td>2023-11-22T10:39:15.122000Z</td>\n",
       "    </tr>\n",
       "    <tr>\n",
       "      <th>2</th>\n",
       "      <td>12</td>\n",
       "      <td>{'ebikes': 0, 'has_ebikes': True, 'last_update...</td>\n",
       "      <td>12</td>\n",
       "      <td>6d42fa40360f9a6b2bf641c7b8bb2862</td>\n",
       "      <td>49.279764</td>\n",
       "      <td>-123.110154</td>\n",
       "      <td>Dunsmuir &amp; Beatty</td>\n",
       "      <td>2023-11-22T10:39:15.129000Z</td>\n",
       "    </tr>\n",
       "    <tr>\n",
       "      <th>3</th>\n",
       "      <td>8</td>\n",
       "      <td>{'ebikes': 4, 'has_ebikes': True, 'last_update...</td>\n",
       "      <td>8</td>\n",
       "      <td>66f873d641d448bd1572ab086665a458</td>\n",
       "      <td>49.260599</td>\n",
       "      <td>-123.113504</td>\n",
       "      <td>12th &amp; Yukon (City Hall)</td>\n",
       "      <td>2023-11-22T10:39:15.134000Z</td>\n",
       "    </tr>\n",
       "    <tr>\n",
       "      <th>4</th>\n",
       "      <td>8</td>\n",
       "      <td>{'ebikes': 5, 'has_ebikes': True, 'last_update...</td>\n",
       "      <td>8</td>\n",
       "      <td>485d4d24c803cfde829ab89699fed833</td>\n",
       "      <td>49.264215</td>\n",
       "      <td>-123.117772</td>\n",
       "      <td>8th &amp; Ash</td>\n",
       "      <td>2023-11-22T10:39:15.153000Z</td>\n",
       "    </tr>\n",
       "    <tr>\n",
       "      <th>...</th>\n",
       "      <td>...</td>\n",
       "      <td>...</td>\n",
       "      <td>...</td>\n",
       "      <td>...</td>\n",
       "      <td>...</td>\n",
       "      <td>...</td>\n",
       "      <td>...</td>\n",
       "      <td>...</td>\n",
       "    </tr>\n",
       "    <tr>\n",
       "      <th>239</th>\n",
       "      <td>11</td>\n",
       "      <td>{'ebikes': 1, 'has_ebikes': True, 'last_update...</td>\n",
       "      <td>3</td>\n",
       "      <td>13021bba7bbeca1ccd8726ca17da59e6</td>\n",
       "      <td>49.250940</td>\n",
       "      <td>-123.101306</td>\n",
       "      <td>22nd &amp; Main</td>\n",
       "      <td>2023-11-22T10:39:15.223000Z</td>\n",
       "    </tr>\n",
       "    <tr>\n",
       "      <th>240</th>\n",
       "      <td>9</td>\n",
       "      <td>{'ebikes': 1, 'has_ebikes': True, 'last_update...</td>\n",
       "      <td>11</td>\n",
       "      <td>5699b40126e10c2f68eefc3eb18ff3a1</td>\n",
       "      <td>49.270783</td>\n",
       "      <td>-123.141564</td>\n",
       "      <td>1st &amp; Fir</td>\n",
       "      <td>2023-11-22T10:39:14.885000Z</td>\n",
       "    </tr>\n",
       "    <tr>\n",
       "      <th>241</th>\n",
       "      <td>16</td>\n",
       "      <td>{'ebikes': 2, 'has_ebikes': True, 'last_update...</td>\n",
       "      <td>6</td>\n",
       "      <td>34fd37d12eb989b49518ef53941ee3ff</td>\n",
       "      <td>49.264019</td>\n",
       "      <td>-123.209176</td>\n",
       "      <td>Sasamat &amp; 10th</td>\n",
       "      <td>2023-11-22T10:39:14.825000Z</td>\n",
       "    </tr>\n",
       "    <tr>\n",
       "      <th>242</th>\n",
       "      <td>3</td>\n",
       "      <td>{'ebikes': 6, 'has_ebikes': True, 'last_update...</td>\n",
       "      <td>17</td>\n",
       "      <td>b7dd37a7dd668d6d10024b7f18acc438</td>\n",
       "      <td>49.265800</td>\n",
       "      <td>-123.205960</td>\n",
       "      <td>Trimble &amp; 8th</td>\n",
       "      <td>2023-11-22T10:39:14.884000Z</td>\n",
       "    </tr>\n",
       "    <tr>\n",
       "      <th>243</th>\n",
       "      <td>11</td>\n",
       "      <td>{'ebikes': 0, 'has_ebikes': True, 'last_update...</td>\n",
       "      <td>9</td>\n",
       "      <td>cc25ae4f093b33ba0afd1dbc0dd20324</td>\n",
       "      <td>49.265442</td>\n",
       "      <td>-123.187738</td>\n",
       "      <td>Highbury &amp; 8th</td>\n",
       "      <td>2023-11-22T10:39:15.208000Z</td>\n",
       "    </tr>\n",
       "  </tbody>\n",
       "</table>\n",
       "<p>244 rows × 8 columns</p>\n",
       "</div>"
      ],
      "text/plain": [
       "     empty_slots                                              extra  \\\n",
       "0             15  {'ebikes': 0, 'has_ebikes': True, 'last_update...   \n",
       "1              6  {'ebikes': 1, 'has_ebikes': True, 'last_update...   \n",
       "2             12  {'ebikes': 0, 'has_ebikes': True, 'last_update...   \n",
       "3              8  {'ebikes': 4, 'has_ebikes': True, 'last_update...   \n",
       "4              8  {'ebikes': 5, 'has_ebikes': True, 'last_update...   \n",
       "..           ...                                                ...   \n",
       "239           11  {'ebikes': 1, 'has_ebikes': True, 'last_update...   \n",
       "240            9  {'ebikes': 1, 'has_ebikes': True, 'last_update...   \n",
       "241           16  {'ebikes': 2, 'has_ebikes': True, 'last_update...   \n",
       "242            3  {'ebikes': 6, 'has_ebikes': True, 'last_update...   \n",
       "243           11  {'ebikes': 0, 'has_ebikes': True, 'last_update...   \n",
       "\n",
       "     free_bikes                                id   latitude   longitude  \\\n",
       "0            20  7a19c49f486d7c0c02b3685d7b240448  49.262487 -123.114397   \n",
       "1             9  32603a87cfca71d0f7dfa3513bad69d5  49.274566 -123.121817   \n",
       "2            12  6d42fa40360f9a6b2bf641c7b8bb2862  49.279764 -123.110154   \n",
       "3             8  66f873d641d448bd1572ab086665a458  49.260599 -123.113504   \n",
       "4             8  485d4d24c803cfde829ab89699fed833  49.264215 -123.117772   \n",
       "..          ...                               ...        ...         ...   \n",
       "239           3  13021bba7bbeca1ccd8726ca17da59e6  49.250940 -123.101306   \n",
       "240          11  5699b40126e10c2f68eefc3eb18ff3a1  49.270783 -123.141564   \n",
       "241           6  34fd37d12eb989b49518ef53941ee3ff  49.264019 -123.209176   \n",
       "242          17  b7dd37a7dd668d6d10024b7f18acc438  49.265800 -123.205960   \n",
       "243           9  cc25ae4f093b33ba0afd1dbc0dd20324  49.265442 -123.187738   \n",
       "\n",
       "                            name                    timestamp  \n",
       "0                  10th & Cambie  2023-11-22T10:39:15.138000Z  \n",
       "1    Yaletown-Roundhouse Station  2023-11-22T10:39:15.122000Z  \n",
       "2              Dunsmuir & Beatty  2023-11-22T10:39:15.129000Z  \n",
       "3       12th & Yukon (City Hall)  2023-11-22T10:39:15.134000Z  \n",
       "4                      8th & Ash  2023-11-22T10:39:15.153000Z  \n",
       "..                           ...                          ...  \n",
       "239                  22nd & Main  2023-11-22T10:39:15.223000Z  \n",
       "240                    1st & Fir  2023-11-22T10:39:14.885000Z  \n",
       "241               Sasamat & 10th  2023-11-22T10:39:14.825000Z  \n",
       "242                Trimble & 8th  2023-11-22T10:39:14.884000Z  \n",
       "243               Highbury & 8th  2023-11-22T10:39:15.208000Z  \n",
       "\n",
       "[244 rows x 8 columns]"
      ]
     },
     "execution_count": 13,
     "metadata": {},
     "output_type": "execute_result"
    }
   ],
   "source": [
    "mobidf"
   ]
  },
  {
   "cell_type": "code",
   "execution_count": 12,
   "metadata": {},
   "outputs": [
    {
     "name": "stdout",
     "output_type": "stream",
     "text": [
      "Pender & Burrard\n",
      "Helmcken & Burrard\n",
      "Burrard & 4th\n",
      "Burrard & 7th\n",
      "Burrard Station (Melville & Dunsmuir)\n",
      "Smithe & Burrard\n",
      "Burrard & Drake\n",
      "Burrard & 14th\n"
     ]
    },
    {
     "data": {
      "text/plain": [
       "[10, 21, 74, 75, 155, 178, 207, 234]"
      ]
     },
     "execution_count": 12,
     "metadata": {},
     "output_type": "execute_result"
    }
   ],
   "source": [
    "mbd = mobidf['name']\n",
    "cactus = 'Burrard'\n",
    "\n",
    "def find_cactus(cactus):\n",
    "\n",
    "    lmbd = []\n",
    "    for i, each_street in enumerate(mbd):\n",
    "        if cactus in each_street:\n",
    "            lmbd.append(i)\n",
    "            print(each_street)\n",
    "    return lmbd\n",
    "        \n",
    "find_cactus(cactus)"
   ]
  },
  {
   "cell_type": "code",
   "execution_count": 10,
   "metadata": {},
   "outputs": [
    {
     "data": {
      "text/plain": [
       "empty_slots                                                    8\n",
       "extra          {'ebikes': 5, 'has_ebikes': True, 'last_update...\n",
       "free_bikes                                                     8\n",
       "id                              485d4d24c803cfde829ab89699fed833\n",
       "latitude                                               49.264215\n",
       "longitude                                            -123.117772\n",
       "name                                                   8th & Ash\n",
       "timestamp                            2023-11-22T10:39:15.153000Z\n",
       "Name: 4, dtype: object"
      ]
     },
     "execution_count": 10,
     "metadata": {},
     "output_type": "execute_result"
    }
   ],
   "source": [
    "mobidf.iloc[4]"
   ]
  },
  {
   "cell_type": "code",
   "execution_count": null,
   "metadata": {},
   "outputs": [],
   "source": []
  }
 ],
 "metadata": {
  "kernelspec": {
   "display_name": "Python 3",
   "language": "python",
   "name": "python3"
  },
  "language_info": {
   "codemirror_mode": {
    "name": "ipython",
    "version": 3
   },
   "file_extension": ".py",
   "mimetype": "text/x-python",
   "name": "python",
   "nbconvert_exporter": "python",
   "pygments_lexer": "ipython3",
   "version": "3.9.18"
  }
 },
 "nbformat": 4,
 "nbformat_minor": 4
}
