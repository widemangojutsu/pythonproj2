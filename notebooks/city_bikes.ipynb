{
 "cells": [
  {
   "cell_type": "markdown",
   "metadata": {},
   "source": [
    "# CityBikes"
   ]
  },
  {
   "cell_type": "markdown",
   "metadata": {},
   "source": [
    "Send a request to CityBikes for the city of your choice. "
   ]
  },
  {
   "cell_type": "code",
   "execution_count": 35,
   "metadata": {},
   "outputs": [
    {
     "data": {
      "text/plain": [
       "0                  Velobike\n",
       "1                  Bysykkel\n",
       "2                Bicincittà\n",
       "3                Cyclopolis\n",
       "4                Cyclopolis\n",
       "               ...         \n",
       "675    Cascavel Vai de Bici\n",
       "676               Yélo Vélo\n",
       "677                 Ganxeta\n",
       "678                    BIBO\n",
       "679             biciArteixo\n",
       "Name: name, Length: 680, dtype: object"
      ]
     },
     "execution_count": 35,
     "metadata": {},
     "output_type": "execute_result"
    }
   ],
   "source": [
    "import requests\n",
    "import json\n",
    "import pandas as pd\n",
    "\n",
    "url = \"http://api.citybik.es/v2/networks\"\n",
    "bikejs = requests.get(url)\n",
    "\n",
    "\n",
    "\n",
    "url='http://api.citybik.es/v2/networks'\n",
    "data = requests.get(url).json()\n",
    "\n",
    "df = pd.DataFrame(data['networks'])\n",
    "\n",
    "name = df['name']\n",
    "location = df['location']\n",
    "name\n",
    "# print(location)\n",
    "# # myloc = location[0]\n",
    "\n",
    "\n",
    "# # myloc.get('city', 'Moscow'\n",
    "# # )\n",
    "# myloc = 'Vancouver'\n",
    "\n",
    "# def citychoice(myloc):\n",
    "#     citylist = []\n",
    "\n",
    "#     for i, each in enumerate(location):\n",
    "#         if each['city'] == myloc:\n",
    "#             citylist.append(i)\n",
    "\n",
    "#     return citylist\n",
    "\n",
    "# citychoice(myloc)\n",
    "\n"
   ]
  },
  {
   "cell_type": "code",
   "execution_count": 10,
   "metadata": {},
   "outputs": [
    {
     "data": {
      "text/plain": [
       "'mobibikes'"
      ]
     },
     "execution_count": 10,
     "metadata": {},
     "output_type": "execute_result"
    }
   ],
   "source": [
    "df.iloc[210]['id']"
   ]
  },
  {
   "cell_type": "markdown",
   "metadata": {},
   "source": [
    "Parse through the response to get the details you want for the bike stations in that city (latitude, longitude, number of bikes). "
   ]
  },
  {
   "cell_type": "code",
   "execution_count": 16,
   "metadata": {},
   "outputs": [],
   "source": [
    "vanid = df.iloc[210]['id']\n",
    "\n",
    "mobiurl = f'http://api.citybik.es/v2/networks/{vanid}'\n",
    "\n",
    "vanmobi = requests.get(mobiurl).json()\n",
    "mobidf = pd.DataFrame(vanmobi['network']['stations'])"
   ]
  },
  {
   "cell_type": "markdown",
   "metadata": {},
   "source": [
    "Put your parsed results into a DataFrame."
   ]
  },
  {
   "cell_type": "code",
   "execution_count": 33,
   "metadata": {},
   "outputs": [],
   "source": [
    "numbermobidf = mobidf[['empty_slots','free_bikes', 'latitude', 'longitude']]\n",
    "\n",
    "numbermobidf.to_csv(path_or_buf='numbermobidf')"
   ]
  },
  {
   "cell_type": "code",
   "execution_count": 23,
   "metadata": {},
   "outputs": [
    {
     "data": {
      "text/plain": [
       "0      {'ebikes': 1, 'has_ebikes': True, 'last_update...\n",
       "1      {'ebikes': 2, 'has_ebikes': True, 'last_update...\n",
       "2      {'ebikes': 2, 'has_ebikes': True, 'last_update...\n",
       "3      {'ebikes': 4, 'has_ebikes': True, 'last_update...\n",
       "4      {'ebikes': 8, 'has_ebikes': True, 'last_update...\n",
       "                             ...                        \n",
       "243    {'ebikes': 14, 'has_ebikes': True, 'last_updat...\n",
       "244    {'ebikes': 7, 'has_ebikes': True, 'last_update...\n",
       "245    {'ebikes': 0, 'has_ebikes': True, 'last_update...\n",
       "246    {'ebikes': 2, 'has_ebikes': True, 'last_update...\n",
       "247    {'ebikes': 2, 'has_ebikes': True, 'last_update...\n",
       "Name: extra, Length: 248, dtype: object"
      ]
     },
     "execution_count": 23,
     "metadata": {},
     "output_type": "execute_result"
    }
   ],
   "source": [
    "extradf = mobidf['extra']\n",
    "extradf"
   ]
  },
  {
   "cell_type": "code",
   "execution_count": 12,
   "metadata": {},
   "outputs": [
    {
     "name": "stdout",
     "output_type": "stream",
     "text": [
      "Pender & Burrard\n",
      "Helmcken & Burrard\n",
      "Burrard & 4th\n",
      "Burrard & 7th\n",
      "Burrard Station (Melville & Dunsmuir)\n",
      "Smithe & Burrard\n",
      "Burrard & Drake\n",
      "Burrard & 14th\n"
     ]
    },
    {
     "data": {
      "text/plain": [
       "[10, 21, 74, 75, 155, 178, 207, 234]"
      ]
     },
     "execution_count": 12,
     "metadata": {},
     "output_type": "execute_result"
    }
   ],
   "source": [
    "mbd = mobidf['name']\n",
    "cactus = 'Burrard'\n",
    "\n",
    "def find_cactus(cactus):\n",
    "\n",
    "    lmbd = []\n",
    "    for i, each_street in enumerate(mbd):\n",
    "        if cactus in each_street:\n",
    "            lmbd.append(i)\n",
    "            print(each_street)\n",
    "    return lmbd\n",
    "        \n",
    "find_cactus(cactus)"
   ]
  },
  {
   "cell_type": "code",
   "execution_count": 10,
   "metadata": {},
   "outputs": [
    {
     "data": {
      "text/plain": [
       "empty_slots                                                    8\n",
       "extra          {'ebikes': 5, 'has_ebikes': True, 'last_update...\n",
       "free_bikes                                                     8\n",
       "id                              485d4d24c803cfde829ab89699fed833\n",
       "latitude                                               49.264215\n",
       "longitude                                            -123.117772\n",
       "name                                                   8th & Ash\n",
       "timestamp                            2023-11-22T10:39:15.153000Z\n",
       "Name: 4, dtype: object"
      ]
     },
     "execution_count": 10,
     "metadata": {},
     "output_type": "execute_result"
    }
   ],
   "source": [
    "mobidf.iloc[4]"
   ]
  },
  {
   "cell_type": "code",
   "execution_count": null,
   "metadata": {},
   "outputs": [],
   "source": []
  }
 ],
 "metadata": {
  "kernelspec": {
   "display_name": "Python 3",
   "language": "python",
   "name": "python3"
  },
  "language_info": {
   "codemirror_mode": {
    "name": "ipython",
    "version": 3
   },
   "file_extension": ".py",
   "mimetype": "text/x-python",
   "name": "python",
   "nbconvert_exporter": "python",
   "pygments_lexer": "ipython3",
   "version": "3.11.5"
  }
 },
 "nbformat": 4,
 "nbformat_minor": 4
}
